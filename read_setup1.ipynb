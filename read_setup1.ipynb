{
  "cells": [
    {
      "cell_type": "markdown",
      "metadata": {
        "id": "view-in-github",
        "colab_type": "text"
      },
      "source": [
        "<a href=\"https://colab.research.google.com/github/ekyuho/Physical-Computing/blob/main/read_setup1.ipynb\" target=\"_parent\"><img src=\"https://colab.research.google.com/assets/colab-badge.svg\" alt=\"Open In Colab\"/></a>"
      ]
    },
    {
      "cell_type": "code",
      "execution_count": 4,
      "id": "2fe3f7b4-9ad8-4334-bb82-d57963f92fb3",
      "metadata": {
        "colab": {
          "base_uri": "https://localhost:8080/"
        },
        "id": "2fe3f7b4-9ad8-4334-bb82-d57963f92fb3",
        "outputId": "3e47de6a-aadc-45f0-8119-4000552f8146"
      },
      "outputs": [
        {
          "output_type": "stream",
          "name": "stdout",
          "text": [
            "1PBR8Obbn7rnbBxyFEFp-1r-67VOK6X6FxS2lRjbxSIM\n",
            "python C 아두이노 Colab chatGPT 타이핑 \n",
            "python C 아두이노 Colab chatGPT 타이핑 \n",
            "C chatGPT 타이핑 \n",
            "python C Colab chatGPT \n",
            "python C 아두이노 Colab chatGPT 타이핑 \n",
            "python C Colab chatGPT 타이핑 \n",
            "python C 아두이노 chatGPT 타이핑 \n",
            "python C 아두이노 Colab chatGPT 타이핑 \n",
            "python chatGPT 타이핑 \n",
            "python C 아두이노 Colab chatGPT 타이핑 \n",
            "python chatGPT \n",
            "python chatGPT 타이핑 \n",
            "C 아두이노 chatGPT 타이핑 \n",
            "python C Colab chatGPT 타이핑 \n",
            "python C Colab chatGPT 타이핑 \n",
            "python C Colab chatGPT 타이핑 \n",
            "chatGPT 타이핑 \n",
            "chatGPT \n",
            "python C chatGPT 타이핑 \n"
          ]
        }
      ],
      "source": [
        "import pandas as pd\n",
        "import numpy as np\n",
        "import json\n",
        "import re\n",
        "import os\n",
        "from dotenv import load_dotenv\n",
        "load_dotenv('/content/drive/MyDrive/김규호@ewhaswu2/2025-2 사물인터넷개론/.env')\n",
        "\n",
        "sheet_id = os.getenv('SHEET_ID')\n",
        "print(sheet_id)\n",
        "# https://docs.google.com/spreadsheets/d/1PBRbn7rnbBxyFEFp-1r-67VOK6X6FxS2lRxSIM/edit?gid=3985324#gid=3985324\n",
        "# 위의 google doc URL에서 일부분\n",
        "#sheet_id = '1PBRbn7rnbBxyFEFp-1r-67VOK6X6FxS2lRxSIM'\n",
        "sheet_name = \"sheet1\".replace(\" \", \"%20\").encode('utf-8')\n",
        "sheet_url = f'https://docs.google.com/spreadsheets/d/{sheet_id}/gviz/tq?tqx=out:csv&sheet={sheet_name}'\n",
        "\n",
        "df=pd.read_csv(sheet_url,encoding='utf-8')\n",
        "for i, r in df.iterrows():\n",
        "    if i==0: continue\n",
        "\n",
        "    s=r.iloc[4]\n",
        "    if 'Python' in s: print('python', end=' ')\n",
        "    if 'C 언러' in s: print('C', end=' ')\n",
        "    if '아두이노' in s: print('아두이노', end=' ')\n",
        "    if 'Colab' in s: print('Colab', end=' ')\n",
        "    if 'chatGPT' in s: print('chatGPT', end=' ')\n",
        "    if '타이핑' in s: print('타이핑', end=' ')\n",
        "    print()"
      ]
    },
    {
      "cell_type": "code",
      "source": [
        "from google.colab import drive\n",
        "drive.mount('/content/drive')"
      ],
      "metadata": {
        "colab": {
          "base_uri": "https://localhost:8080/"
        },
        "id": "XxNAWxpAaYtr",
        "outputId": "3b74a1d3-afb4-4b28-eea2-e2054ce65453"
      },
      "id": "XxNAWxpAaYtr",
      "execution_count": 1,
      "outputs": [
        {
          "output_type": "stream",
          "name": "stdout",
          "text": [
            "Mounted at /content/drive\n"
          ]
        }
      ]
    },
    {
      "cell_type": "code",
      "execution_count": 5,
      "id": "3e823f09-4b35-473b-afc7-02a3e8c6d098",
      "metadata": {
        "colab": {
          "base_uri": "https://localhost:8080/"
        },
        "id": "3e823f09-4b35-473b-afc7-02a3e8c6d098",
        "outputId": "4bc9dbc7-58e6-4c9f-d5a4-b51dd1029d4f"
      },
      "outputs": [
        {
          "output_type": "stream",
          "name": "stdout",
          "text": [
            "수강신청 키워드 검색\n",
            "수강신청 키워드 검색\n",
            "수강신청 키워드 검색\n",
            "컴퓨터관련 과목 검색\n",
            "재수강, 이전에는 교과과정표를 보고 흥미가 가는 강의명에 수강했습니다.\n",
            "Telos 트랙 이수\n",
            "수강신청 키워드 검색\n",
            "수강신청 키워드 검색\n",
            "컴퓨터관련 과목 검색\n",
            "컴퓨터관련 과목 검색\n",
            "과학 융합교양을 찾아보다가 수강하게 되었습니다.\n",
            "수강신청 키워드 검색\n",
            "수강신청 키워드 검색\n",
            "수강신청 키워드 검색\n",
            "수강신청 키워드 검색\n",
            "수강신청 키워드 검색\n",
            "수강신청 키워드 검색\n",
            "수강신청 키워드 검색\n",
            "같은 나이또래 친구, 동료로 부터 정보수집\n"
          ]
        }
      ],
      "source": [
        "for i, r in df.iterrows():\n",
        "    if i==0: continue\n",
        "\n",
        "    s=r.iloc[5]\n",
        "    print(s)"
      ]
    },
    {
      "cell_type": "code",
      "execution_count": 6,
      "id": "d4a6d35b-be91-4201-b585-ba038df8f61c",
      "metadata": {
        "colab": {
          "base_uri": "https://localhost:8080/"
        },
        "id": "d4a6d35b-be91-4201-b585-ba038df8f61c",
        "outputId": "c129e021-2e32-46df-e734-eaaa43ecbc19"
      },
      "outputs": [
        {
          "output_type": "stream",
          "name": "stdout",
          "text": [
            "1. IoT 전체 과정의 이해\n",
            "센서 데이터 수집부터 전송, 저장, 서비스 구현까지 직접 실습하며 IoT의 기본 원리를 체득하고 싶습니다.\n",
            "2. 데이터 활용과 분석 경험\n",
            "수집한 데이터를 시각화·분석하여 실제 생활 속에서 어떻게 의사결정과 자동화에 활용될 수 있는지 배우고 싶습니다.\n",
            "3. 보안과 프라이버시 인식\n",
            "IoT 데이터의 취약성과 위험성을 직접 경험하면서 보안의 중요성과 기본적인 대응 방법을 익히고 싶습니다.\n",
            "4. 실생활 응용 프로젝트\n",
            "스마트 화분 관리, 공기질 모니터링 등 생활 속 문제를 해결할 수 있는 IoT 서비스를 직접 기획·구현해보고 싶습니다. 수강신청 키워드 검색\n",
            "\n",
            "직관적이고 간단한 설명 부탁드립니다 수강신청 키워드 검색\n",
            "\n",
            "*본 클래스를 통해 얻고 싶은 것\n",
            "사물인터넷의 기본 원리를 직접 경험하며 기초 개념을 확실히 이해하고 싶습니다.\n",
            "센서·네트워크·데이터 처리 과정을 체험하면서 IoT 시스템이 어떻게 구성되는지 흐름을 알고 싶습니다.\n",
            "실습을 통해 이론을 단순 암기가 아닌 ‘체험적 지식’으로 쌓고 싶습니다.\n",
            "\n",
            "*기대하는 바\n",
            "단순히 따라 하기보다는 문제를 직접 해결하면서 응용력을 기를 수 있기를 기대합니다.\n",
            "실제 생활이나 산업에 적용될 수 있는 다양한 IoT 사례를 접하며 활용 아이디어를 넓히고 싶습니다.\n",
            "\n",
            "*관련해서 만들어 보고 싶은 것\n",
            "스마트 홈 조명 제어: 조도 센서와 무선 통신을 이용해 자동으로 불을 켜고 끄는 시스템.\n",
            "온습도 모니터링 장치: 실내 환경을 체크하고 알람을 주는 간단한 IoT 기기. 수강신청 키워드 검색\n",
            "\n",
            "최근 공모전을 하면서 로봇을 만들고 있었는데 코드를 구현하는 방법이 부족하고 회로를 연결하는 방법이 어색했던 경험이 있어서 이 시간을 통해 코딩을 잘 짜고 이걸 이용한 프로젝트를 경험해보고 싶습니다. 또한 아두이노에 다양한 센서들을 넣고 다양한 기능을 하는 제품을 만들고 싶습니다.  컴퓨터관련 과목 검색\n",
            "\n",
            "신입생 때 들었을 때는 IoT나 아두이노, 코딩과 관련한 지식이 아예 없어서 수업을 따라가기 힘들었는데, 4학년이 된 이번에 다시 들으면서는 지금까지 제가 배운 것들을 조금은 활용할 수 있었으면 좋겠다고 기대합니다.\n",
            "그 당시에는 인공지능 모델이 지금처럼 널리 쓰이지 않던 때라서 혼자 힘만으로 해내느라 진입장벽이 있다고 느꼈지만 이번에는 챗지피티 등의 모델을 적극적으로 사용할 수 있어 더 다채로운 활동을 할 수 있을 것 같습니다. 재수강, 이전에는 교과과정표를 보고 흥미가 가는 강의명에 수강했습니다.\n",
            "\n",
            "AWS EC2 기능만 사용해봤었는데, \n",
            "\n",
            "센서(온도/습도 등)에서 나온 데이터를 AWS IoT Core를 통해 인터넷으로 보내고 받아보는 경험\n",
            "AWS에서 제공하는 데이터 저장소(DynamoDB, S3) 와 간단한 처리 기능(Lambda) 를 활용해 IoT 데이터를 다뤄보는 방법 배우기\n",
            "MQTT라는 간단한 메시지 방식을 통해 아두이노나 라즈베리파이를 클라우드에 연결해 보는 연습\n",
            "\n",
            "단순히 센서 값을 읽는 것에서 끝나는 게 아니라, 클라우드와 연결된 IoT 시스템이 어떻게 돌아가는지 감 잡기\n",
            "데이터가 일정 기간 쌓이면, AWS의 차트/그래프 서비스(QuickSight 등) 로 쉽게 시각화해 보는 경험\n",
            "수업이 끝난 후에도 AWS 무료 계정(Free Tier) 을 활용해 집에서 간단한 IoT 프로젝트를 해볼 수 있는 자신감 얻기\n",
            "\n",
            "스마트홈 기초 프로젝트: 온도/습도 센서 값을 AWS로 전송 → 클라우드에 저장 → 간단한 웹 화면에서 실시간 확인\n",
            "조건 알림 서비스: 예를 들어 방 온도가 30도를 넘으면 AWS에서 자동으로 문자나 알림 보내기\n",
            "간단한 데이터 그래프: 센서 값이 시간대별로 어떻게 변했는지 AWS 대시보드에서 차트로 확인하기 Telos 트랙 이수\n",
            "\n",
            "기대하는 바 - 단순히 이론적인 수업 방식이 아니라 실습을 통해서 직접 배워가고 경험해보는 수업 방식이 기대가 됩니다. 이해가 안 되더라도 일단 하면 깨우치게 된다는 말씀에 개인적으로 공감이 많이 갔습니다. 저도 평소 학습 과정에서 너무 어려워서 이해가 안 되더라도 일단 그 다음을 계속 이어가는 편이었고 어느 순간 이해를 하지 못했던 부분을 깨우치게 되었던 경험이 있었기 때문입니다. 그래서 수업 방식이 제 학습 태도와도 잘 맞을 것 같아서 더욱 기대가 됩니다.\n",
            "얻고 싶은 것 - 일단 다양한 ai 도구들을 활용해보는 경험을 많이 갖고 싶습니다. 또한 주위에서 흔하게 사용되는 기술들의 원리를 알아가고 또 기술을 분석하면서 해당 기술이 어디에 적용이 되는지, 내가 어떻게 적용할 수 있는지를 알아가면서 더 넓은 사고와 시야를 얻어가고 싶습니다. 수강신청 키워드 검색\n",
            "\n",
            "내가 뭘 좋아하고 잘하는 지 탐구하고 싶어서\n",
            "컴퓨터공학을 전공하고 있는데 흥미가 있는지 조금이라도 더 경험해보고 싶어서 수강신청 키워드 검색\n",
            "\n",
            "저는 전자기기에 꾸준히 관심이 있었지만, 실제로 다뤄보거나 배운 경험은 거의 없었습니다. 그래서 이번 수업을 통해 단순히 이론을 아는 것을 넘어, 실생활에서 자주 보고 쓰는 것들을 직접 손으로 만들고 동작시켜 보는 경험을 꼭 해보고 싶습니다.\n",
            "센서가 어떻게 데이터를 수집하고, 그것이 네트워크를 통해 어떻게 전달되는지 원리를 이해하고 싶습니다. 컴퓨터관련 과목 검색\n",
            "\n",
            "얻을 수 있는 점: IoT 전체 파이프라인 시스템을 이해하고 이를 직접 구현해낼 때 필요한 지식, 경험, 아이디어를 얻을 수 있을 것으로 기대합니다.\n",
            "기대하는 점: 센서를 통해 데이터를 수집하고 AI로 이를 분석·활용하여 주변의 문제들을 해결하거나 새로운 서비스를 만들 때, 창의적이고 논리적으로 접근하기 위한 역량을 기를 수 있기를 바랍니다.\n",
            "또한 수업을 통해 일상생활에서 IoT 관련 기술을 접했을 때 그 시스템의 구조와 원리를 파악하고, 어떤 것이 더 나은지 판단할 수 있는 안목과 비평 능력을 갖추고 싶습니다.\n",
            "만들어 볼 수 있는 것: 하루종일 모니터를 보는 대학생들, 직장인들, 연구원들 등을 위해 스마트 아이케어 시스템: 눈 깜빡임 빈도 or 동공 크기 감지-> AI를 통해 피로도 실시간 분석-> 모니터 밝기나 블루라이트 자동 조절\n",
            " 컴퓨터관련 과목 검색\n",
            "\n",
            "첫 수업에서 언급하신 미디어아트와 관련한 실습을 해보고 싶습니다. 과학 융합교양을 찾아보다가 수강하게 되었습니다.\n",
            "\n",
            "- IoT는 해보다가 잘 안 되는 경우가 많은데, 실패 경험 자체도 인사이트가 될 수 있도록 수업 분위기가 ‘실패 친화적’이었으면 좋겠습니다. 성공 사례뿐만 아니라 삽질(?) 경험 공유도 장려되면 재미있고 배움이 클 것 같습니다.\n",
            "\n",
            "- 고등학교 때 실제로 아두이노를 이용하여 식물의 온도와 습도를 시각적으로 나타내기, 화장실 냄새 없애는 아두이노 설계하기 등등 아두이노를 조금 접해보았습니다. 단순히 성적을 잘 받기 위해서, 학점을 채우는 용도가 아닌, 실제 생활에서 아두이노가 어떻게 쓰이며 그 작동 원리를 배워보고 싶습니다.\n",
            "그래서 하나의 장치를 정해서 그 원리를 파헤쳐보는 활동을 했으면 좋겠습니다! 수강신청 키워드 검색\n",
            "\n",
            "직접 아두이노를 이용해 코드가 어떻게 작동하는지 알아볼 수 있을 것 같아 그냥 프로그래밍만 배우는 것보다 즐겁고 이해가 잘 될 것 같습니다! 수강신청 키워드 검색\n",
            "\n",
            "IOT에 대한 관심으로 참여했습니다 현재 일반적으로 쓰이고 있는 IOT 기기 외에 제 필요에 따른 IOT 기기를 설계해보고 싶습니다 수강신청 키워드 검색\n",
            "\n",
            "- IoT 전체 구조(센서 → 클라우드 → 데이터 분석 → 앱)를 직접 경험/실습하고 싶습니다.\n",
            "- Google Cloud와 모바일 앱 연동을 통해 실무적인 IoT 워크플로우를 익히고 싶습니다. 수강신청 키워드 검색\n",
            "\n",
            " 평소 이론식 강의를 들으면 직접적으로 다가오지 않아 비교적 기억에 덜 남는 경우가 잦았는데 실습을 통해 본 강의의 내용을 접하면 이해가 잘 될 것 같아 기대됩니다.\n",
            " 사물인터넷에 대해서 극히 일부의 지식밖에 없어 배우고자 본 강의를 신청하게 되었는데 더 세부적인 내용을 배워 앞으로 살아가며 도움이 되는 방향으로 지식을 활용하고 싶습니다. 수강신청 키워드 검색\n",
            "\n",
            "디자인학부 학생이라 관련 내용으로 디지털 미디어 아트를(더 나아가서 전시도) 시도하고 싶습니다! 수강신청 키워드 검색\n",
            "\n",
            "이론적으로 내용을 배우는 것도 좋지만 다양한 기계들을 조립해보는 실습을 많이 해봤으면 좋겠습니다. 수강신청 키워드 검색\n",
            "\n",
            "강의계획안을 보고 흥미가 생겨 수강하게 되었습니다.\n",
            "코딩은 배워봤지만 아두이노와 같은 실습 장비는 다뤄본 적 없어서 직접 경험해보는 것이 기대됩니다.\n",
            "누워있을 때 불 끄러 가는게 너무 귀찮은데 스위치를 눌러주는 기계를 만들어 보고 싶습니다. 물론 시중에 존재하지만  만들어지는 것을 직접 보고 구상한 시스템이 실제로 작동하는 뿌듯함을 느끼고 싶습니다. 같은 나이또래 친구, 동료로 부터 정보수집\n",
            "\n"
          ]
        }
      ],
      "source": [
        "for i, r in df.iterrows():\n",
        "    if i==0: continue\n",
        "\n",
        "    print(r.iloc[6], end=' ')\n",
        "    s=r.iloc[5]\n",
        "    print(s)\n",
        "    print()"
      ]
    },
    {
      "cell_type": "code",
      "execution_count": null,
      "id": "23009d8c-2bd5-4be0-86f0-0d10f69e3504",
      "metadata": {
        "id": "23009d8c-2bd5-4be0-86f0-0d10f69e3504"
      },
      "outputs": [],
      "source": []
    }
  ],
  "metadata": {
    "kernelspec": {
      "display_name": "Python 3 (ipykernel)",
      "language": "python",
      "name": "python3"
    },
    "language_info": {
      "codemirror_mode": {
        "name": "ipython",
        "version": 3
      },
      "file_extension": ".py",
      "mimetype": "text/x-python",
      "name": "python",
      "nbconvert_exporter": "python",
      "pygments_lexer": "ipython3",
      "version": "3.12.10"
    },
    "colab": {
      "provenance": [],
      "include_colab_link": true
    }
  },
  "nbformat": 4,
  "nbformat_minor": 5
}